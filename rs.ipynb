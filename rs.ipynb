{
 "cells": [
  {
   "cell_type": "markdown",
   "metadata": {},
   "source": [
    "# Reed-Solomon Codes\n",
    "\n",
    "EXPLAIN SOME STUFF ABOUT RS CODES"
   ]
  },
  {
   "cell_type": "code",
   "execution_count": null,
   "metadata": {
    "metadata": {}
   },
   "outputs": [],
   "source": [
    "!pip install tabulate\n",
    "import reedsolo as rs\n",
    "from tabulate import tabulate"
   ]
  },
  {
   "cell_type": "markdown",
   "metadata": {},
   "source": []
  },
  {
   "cell_type": "code",
   "execution_count": 61,
   "metadata": {
    "metadata": {}
   },
   "outputs": [
    {
     "ename": "SyntaxError",
     "evalue": "invalid syntax (4202279460.py, line 28)",
     "output_type": "error",
     "traceback": [
      "\u001b[0;36m  Cell \u001b[0;32mIn[61], line 28\u001b[0;36m\u001b[0m\n\u001b[0;31m    print(tabulate(table2, headers=[\"Item\", \"Representation\", \"Polynomial Representation\"]))bytearray1_items_poly kljhlkjh\u001b[0m\n\u001b[0m                                                                                            ^\u001b[0m\n\u001b[0;31mSyntaxError\u001b[0m\u001b[0;31m:\u001b[0m invalid syntax\n"
     ]
    }
   ],
   "source": [
    "temp_c_exp = 3\n",
    "fast_primes = rs.find_prime_polys(c_exp=temp_c_exp, fast_primes=True, single=True)\n",
    "rs_init_codes = rs.init_tables(c_exp=temp_c_exp, prim=fast_primes)\n",
    "\n",
    "# Splitting byte arrays and joining the items with comma\n",
    "bytearray1_items = ','.join([str(byte) for byte in rs_init_codes[0]])\n",
    "bytearray2_items = ','.join([str(byte) for byte in rs_init_codes[1]])\n",
    "\n",
    "# Convert items to polynomial representation\n",
    "bytearray1_items_poly = \"\"\n",
    "bytearray2_items_poly  = \"\"\n",
    "\n",
    "max_exp_1 = len(bytearray1_items)\n",
    "max_exp_2 = len(bytearray2_items)\n",
    "\n",
    "for i in range(len(rs_init_codes[0])):\n",
    "    bytearray1_items_poly += (str(rs_init_codes[0][i]) + \"x^\" + str(i) + \"+\")\n",
    "\n",
    "\n",
    "# Creating tables\n",
    "ta = bytearray1_items_poly[:-1]\n",
    "ble1 = [[\"Byte Array 1\", bytearray1_items, bytearray1_items_poly]]\n",
    "table2 = [[\"Byte Array 2\", bytearray2_items, bytearray2_items_poly]]\n",
    "\n",
    "# Printing tables\n",
    "print(tabulate(table1, headers=[\"Item\", \"Representation\", \"Polynomial Representation\"]))\n",
    "print(\"\\n\")\n",
    "print(tabulate(table2, headers=[\"Item\", \"Representation\", \"Polynomial Representation\"]))bytearray1_items_poly"
   ]
  },
  {
   "cell_type": "code",
   "execution_count": null,
   "metadata": {
    "metadata": {}
   },
   "outputs": [],
   "source": [
    "rs_init_codes = rs.init_tables(0x11d)\n",
    "\n",
    "# Splitting byte arrays and joining the items with comma\n",
    "bytearray1_items = ','.join([str(byte) for byte in rs_init_codes[0]])\n",
    "bytearray2_items = ','.join([str(byte) for byte in rs_init_codes[1]])\n",
    "\n",
    "# Creating tables\n",
    "table1 = [[\"Byte Array 1\", bytearray1_items]]\n",
    "table2 = [[\"Byte Array 2\", bytearray2_items]]\n",
    "\n",
    "# Printing tables\n",
    "print(tabulate(table1, headers=[\"Item\", \"Representation\"]))\n",
    "print(\"\\n\")\n",
    "print(tabulate(table2, headers=[\"Item\", \"Representation\"]))"
   ]
  },
  {
   "cell_type": "markdown",
   "metadata": {},
   "source": [
    "Our field is going to be size $GF(2^{c_{exp}})$ because we are using a binary code.\n",
    "\n",
    "You can think of this number as the length of a bit string, such that a bit string of length $c_{exp}$ can represent $2^{c_{exp}}$ unique values.\n",
    "\n",
    "The fast primes algorithm will find fewer prime polynomials but will do so faster. Since we only *need* one prime polynomial for our lookup table, we can use this option. \n",
    "\n",
    "What is a prime polynomial?\n",
    "\n"
   ]
  },
  {
   "cell_type": "code",
   "execution_count": null,
   "metadata": {
    "metadata": {}
   },
   "outputs": [],
   "source": [
    "# c_exp = \n",
    "# fast_primes - a way of finding \n",
    "prim = rs.find_prime_polys(c_exp=3, fast_primes=True, single=True)\n",
    "print(prim)\n",
    "rs.init_tables(c_exp=3, prim=prim)"
   ]
  },
  {
   "cell_type": "markdown",
   "metadata": {},
   "source": []
  },
  {
   "cell_type": "code",
   "execution_count": null,
   "metadata": {
    "metadata": {}
   },
   "outputs": [],
   "source": [
    "n = 255  # length of total message+ecc\n",
    "nsym = 12  # length of ecc\n",
    "mes = \"a\" * (n-nsym)  # generate a sample message"
   ]
  },
  {
   "cell_type": "code",
   "execution_count": null,
   "metadata": {
    "metadata": {}
   },
   "outputs": [],
   "source": [
    "# Generator polynomial\n",
    "gen = rs.rs_generator_poly_all(n)\n",
    "print(gen)"
   ]
  },
  {
   "cell_type": "code",
   "execution_count": null,
   "metadata": {
    "metadata": {}
   },
   "outputs": [],
   "source": [
    "mesecc = rs.rs_encode_msg(mes, nsym, gen=gen[nsym])"
   ]
  },
  {
   "cell_type": "markdown",
   "metadata": {},
   "source": [
    "### Add errors"
   ]
  },
  {
   "cell_type": "code",
   "execution_count": null,
   "metadata": {
    "metadata": {}
   },
   "outputs": [],
   "source": [
    "mesecc[1] = 0"
   ]
  },
  {
   "cell_type": "markdown",
   "metadata": {},
   "source": []
  },
  {
   "cell_type": "code",
   "execution_count": null,
   "metadata": {
    "metadata": {}
   },
   "outputs": [],
   "source": [
    "rmes, recc, errata_pos = rs.rs_correct_msg(mesecc, nsym)"
   ]
  },
  {
   "cell_type": "code",
   "execution_count": null,
   "metadata": {},
   "outputs": [],
   "source": [
    "rs.rs_check(rmes + recc, nsym)"
   ]
  },
  {
   "cell_type": "code",
   "execution_count": null,
   "metadata": {
    "metadata": {}
   },
   "outputs": [],
   "source": [
    "print('Number of detected errors and erasures: %i, their positions: %s' % (len(errata_pos), list(errata_pos)))"
   ]
  }
 ],
 "metadata": {
  "kernelspec": {
   "display_name": "Python 3",
   "language": "python",
   "name": "python3"
  },
  "language_info": {
   "codemirror_mode": {
    "name": "ipython",
    "version": 3
   },
   "file_extension": ".py",
   "mimetype": "text/x-python",
   "name": "python",
   "nbconvert_exporter": "python",
   "pygments_lexer": "ipython3",
   "version": "3.10.12"
  }
 },
 "nbformat": 4,
 "nbformat_minor": 2
}
